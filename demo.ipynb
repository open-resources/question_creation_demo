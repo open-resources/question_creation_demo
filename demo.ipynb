{
 "cells": [
  {
   "cell_type": "markdown",
   "metadata": {},
   "source": [
    "# Demo of Question Creation using the script"
   ]
  },
  {
   "cell_type": "markdown",
   "metadata": {},
   "source": [
    "You will first need to install the problem_bank_scripts package from PyPi:\n",
    "\n",
    "`pip install problem_bank_scripts`"
   ]
  },
  {
   "cell_type": "code",
   "execution_count": 1,
   "metadata": {},
   "outputs": [],
   "source": [
    "import problem_bank_scripts as pbs\n",
    "import pathlib"
   ]
  },
  {
   "cell_type": "markdown",
   "metadata": {},
   "source": [
    "## Jake's q"
   ]
  },
  {
   "cell_type": "markdown",
   "metadata": {},
   "source": [
    "## Multiple Choice question"
   ]
  },
  {
   "cell_type": "code",
   "execution_count": 4,
   "metadata": {},
   "outputs": [
    {
     "name": "stdout",
     "output_type": "stream",
     "text": [
      "Warning: This feature (specifying your own directory output_pl) is not tested!\n"
     ]
    }
   ],
   "source": [
    "pathstr = 'input_md/q01_multiple-choice/q01_multiple-choice.md'\n",
    "\n",
    "input_path = pathlib.Path(pathstr)\n",
    "output_path= pathlib.Path(pathstr.replace('input_md','output_pl')).parent\n",
    "\n",
    "pbs.process_question_pl(input_path, output_path)"
   ]
  },
  {
   "cell_type": "markdown",
   "metadata": {},
   "source": [
    "## Numerical Input question"
   ]
  },
  {
   "cell_type": "code",
   "execution_count": 5,
   "metadata": {},
   "outputs": [
    {
     "name": "stdout",
     "output_type": "stream",
     "text": [
      "Warning: This feature (specifying your own directory output_pl) is not tested!\n"
     ]
    }
   ],
   "source": [
    "pathstr = 'input_md/q02_number-input/q02_number-input.md'\n",
    "\n",
    "input_path = pathlib.Path(pathstr)\n",
    "output_path= pathlib.Path(pathstr.replace('input_md','output_pl')).parent\n",
    "\n",
    "pbs.process_question_pl(input_path, output_path)"
   ]
  },
  {
   "cell_type": "markdown",
   "metadata": {},
   "source": [
    "## Multi-part question"
   ]
  },
  {
   "cell_type": "code",
   "execution_count": 6,
   "metadata": {},
   "outputs": [
    {
     "name": "stdout",
     "output_type": "stream",
     "text": [
      "Warning: This feature (specifying your own directory output_pl) is not tested!\n"
     ]
    }
   ],
   "source": [
    "pathstr = 'input_md/q11_multi-part/q11_multi-part.md'\n",
    "\n",
    "input_path = pathlib.Path(pathstr)\n",
    "output_path= pathlib.Path(pathstr.replace('input_md','output_pl')).parent\n",
    "\n",
    "pbs.process_question_pl(input_path, output_path)"
   ]
  },
  {
   "cell_type": "markdown",
   "metadata": {},
   "source": [
    "## That's it! \n",
    "\n",
    "You can then add the question folder from `output_pl` to the PL repo and sync"
   ]
  }
 ],
 "metadata": {
  "kernelspec": {
   "display_name": "Python 3",
   "language": "python",
   "name": "python3"
  },
  "language_info": {
   "codemirror_mode": {
    "name": "ipython",
    "version": 3
   },
   "file_extension": ".py",
   "mimetype": "text/x-python",
   "name": "python",
   "nbconvert_exporter": "python",
   "pygments_lexer": "ipython3",
   "version": "3.8.3"
  }
 },
 "nbformat": 4,
 "nbformat_minor": 4
}
