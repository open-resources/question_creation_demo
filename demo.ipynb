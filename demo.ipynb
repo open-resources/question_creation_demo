{
 "cells": [
  {
   "cell_type": "markdown",
   "metadata": {},
   "source": [
    "# Demo of Question Creation using the script"
   ]
  },
  {
   "cell_type": "markdown",
   "metadata": {},
   "source": [
    "You will first need to install the problem_bank_scripts package from PyPi:\n",
    "\n",
    "`pip install problem_bank_scripts`"
   ]
  },
  {
   "cell_type": "code",
   "execution_count": 1,
   "metadata": {},
   "outputs": [],
   "source": [
    "import problem_bank_scripts as pbs\n",
    "import pathlib"
   ]
  },
  {
   "cell_type": "code",
   "execution_count": 1,
   "metadata": {},
   "outputs": [],
   "source": [
    "import problem_bank_scripts.prairielearn as pl"
   ]
  },
  {
   "cell_type": "markdown",
   "metadata": {},
   "source": [
    "## Multiple Choice question"
   ]
  },
  {
   "cell_type": "code",
   "execution_count": 2,
   "metadata": {},
   "outputs": [],
   "source": [
    "pathstr = 'input_md/q01_multiple-choice/q01_multiple-choice.md'\n",
    "\n",
    "input_path = pathlib.Path(pathstr)\n",
    "output_path= pathlib.Path(pathstr.replace('input_md','output_pl')).parent\n",
    "\n",
    "pbs.process_question_pl(input_path, output_path)"
   ]
  },
  {
   "cell_type": "markdown",
   "metadata": {},
   "source": [
    "## Numerical Input question"
   ]
  },
  {
   "cell_type": "code",
   "execution_count": 3,
   "metadata": {},
   "outputs": [],
   "source": [
    "pathstr = 'input_md/q02_number-input/q02_number-input.md'\n",
    "\n",
    "input_path = pathlib.Path(pathstr)\n",
    "output_path= pathlib.Path(pathstr.replace('input_md','output_pl')).parent\n",
    "\n",
    "pbs.process_question_pl(input_path, output_path)"
   ]
  },
  {
   "cell_type": "markdown",
   "metadata": {},
   "source": [
    "## Multi-part question"
   ]
  },
  {
   "cell_type": "code",
   "execution_count": 4,
   "metadata": {},
   "outputs": [],
   "source": [
    "pathstr = 'input_md/q11_multi-part/q11_multi-part.md'\n",
    "\n",
    "input_path = pathlib.Path(pathstr)\n",
    "output_path= pathlib.Path(pathstr.replace('input_md','output_pl')).parent\n",
    "\n",
    "pbs.process_question_pl(input_path, output_path)"
   ]
  },
  {
   "cell_type": "markdown",
   "metadata": {},
   "source": [
    "## Convert all .md files in a subdir at the same time"
   ]
  },
  {
   "cell_type": "code",
   "execution_count": 22,
   "metadata": {},
   "outputs": [
    {
     "name": "stdout",
     "output_type": "stream",
     "text": [
      "output_pl/q01_multiple-choice/q01_multiple-choice.md\n",
      "output_pl/q02_number-input/q02_number-input.md\n",
      "output_pl/q03_dropdown/q03_dropdown.md\n",
      "output_pl/q04_checkbox/q04_checkbox.md\n",
      "output_pl/q05_multi-part_feedback/q05_multi-part_feedback.md\n",
      "output_pl/q06_number-input_feedback/q06_number-input_feedback.md\n",
      "output_pl/q07a_symbolic-input/q07a_symbolic-input.md\n",
      "output_pl/q07b_symbolic-input/q07b_symbolic-input.md\n",
      "output_pl/q10_integer-input/q10_integer-input.md\n",
      "output_pl/q11_multi-part/q11_multi-part.md\n"
     ]
    }
   ],
   "source": [
    "for input_path in sorted(pathlib.Path('input_md').glob('**/*.md')):\n",
    "    output_path= pathlib.Path(str(input_path).replace('input_md','output_pl'))\n",
    "    print(output_path)\n",
    "    pbs.process_question_pl(input_path, output_path)"
   ]
  },
  {
   "cell_type": "markdown",
   "metadata": {},
   "source": [
    "## That's it! \n",
    "\n",
    "You can then add the question folder from `output_pl` to the PL repo and sync"
   ]
  }
 ],
 "metadata": {
  "kernelspec": {
   "display_name": "Python 3 (ipykernel)",
   "language": "python",
   "name": "python3"
  },
  "language_info": {
   "codemirror_mode": {
    "name": "ipython",
    "version": 3
   },
   "file_extension": ".py",
   "mimetype": "text/x-python",
   "name": "python",
   "nbconvert_exporter": "python",
   "pygments_lexer": "ipython3",
   "version": "3.9.7"
  }
 },
 "nbformat": 4,
 "nbformat_minor": 4
}
